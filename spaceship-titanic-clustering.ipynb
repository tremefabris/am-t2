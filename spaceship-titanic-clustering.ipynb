{
 "cells": [
  {
   "cell_type": "code",
   "execution_count": 1,
   "id": "c0771b60",
   "metadata": {},
   "outputs": [],
   "source": [
    "import pandas            as pd\n",
    "import numpy             as np\n",
    "import matplotlib.pyplot as plt\n",
    "import seaborn           as sns"
   ]
  },
  {
   "cell_type": "code",
   "execution_count": 2,
   "id": "a61f32d6",
   "metadata": {
    "scrolled": true
   },
   "outputs": [
    {
     "name": "stdout",
     "output_type": "stream",
     "text": [
      "<class 'pandas.core.frame.DataFrame'>\n",
      "RangeIndex: 6606 entries, 0 to 6605\n",
      "Data columns (total 10 columns):\n",
      " #   Column       Non-Null Count  Dtype  \n",
      "---  ------       --------------  -----  \n",
      " 0   HomePlanet   6606 non-null   float64\n",
      " 1   CryoSleep    6606 non-null   float64\n",
      " 2   Destination  6606 non-null   float64\n",
      " 3   Age          6606 non-null   float64\n",
      " 4   VIP          6606 non-null   float64\n",
      " 5   Transported  6606 non-null   float64\n",
      " 6   CabinDeck    6606 non-null   float64\n",
      " 7   CabinNumber  6606 non-null   float64\n",
      " 8   CabinSide    6606 non-null   float64\n",
      " 9   TotalSpent   6606 non-null   float64\n",
      "dtypes: float64(10)\n",
      "memory usage: 516.2 KB\n"
     ]
    }
   ],
   "source": [
    "from os import path\n",
    "\n",
    "data_dir  = 'data/spaceship-titanic'\n",
    "data_file = 'train_cluster.csv'\n",
    "data_path = path.join(data_dir, data_file)\n",
    "\n",
    "df = pd.read_csv(data_path)\n",
    "df.drop(columns='Unnamed: 0', inplace=True)\n",
    "\n",
    "df.info()"
   ]
  },
  {
   "cell_type": "code",
   "execution_count": 3,
   "id": "98344883",
   "metadata": {},
   "outputs": [],
   "source": [
    "labels = df.pop('Transported')"
   ]
  },
  {
   "cell_type": "markdown",
   "id": "1ffd9307",
   "metadata": {},
   "source": [
    "#### Normalizando nosso conjunto para o K-Means"
   ]
  },
  {
   "cell_type": "code",
   "execution_count": 4,
   "id": "f3e5dd88",
   "metadata": {},
   "outputs": [],
   "source": [
    "from sklearn.preprocessing import MinMaxScaler\n",
    "\n",
    "data = df.values\n",
    "data_scaled = MinMaxScaler().fit_transform(data)\n",
    "\n",
    "assert np.min(data_scaled) == 0. and np.max(data_scaled) == 1."
   ]
  },
  {
   "cell_type": "markdown",
   "id": "aa0528af",
   "metadata": {},
   "source": [
    "#### Aplicando o K-Means no nosso conjunto"
   ]
  },
  {
   "cell_type": "code",
   "execution_count": 7,
   "id": "7e1fbaf5",
   "metadata": {},
   "outputs": [],
   "source": [
    "from sklearn.cluster import KMeans\n",
    "\n",
    "# Inicialmente para dois clusters - transportado para outra dimensão ou não\n",
    "kmeans = KMeans(n_clusters=2, init='k-means++', n_init=100, random_state=1917)\n",
    "preds = kmeans.fit_predict(data_scaled)"
   ]
  },
  {
   "cell_type": "markdown",
   "id": "d68e29fc",
   "metadata": {},
   "source": [
    "#### Comparando com a ground-truth dos dados"
   ]
  },
  {
   "cell_type": "code",
   "execution_count": 16,
   "id": "f94df6dd",
   "metadata": {},
   "outputs": [
    {
     "data": {
      "text/plain": [
       "0.44686648501362397"
      ]
     },
     "execution_count": 16,
     "metadata": {},
     "output_type": "execute_result"
    }
   ],
   "source": [
    "(labels == preds).mean()"
   ]
  },
  {
   "cell_type": "markdown",
   "id": "b76eacf6",
   "metadata": {},
   "source": [
    "#### Aplicando HDBSCAN no nosso conjunto"
   ]
  },
  {
   "cell_type": "code",
   "execution_count": 27,
   "id": "e2194d0e",
   "metadata": {},
   "outputs": [
    {
     "data": {
      "text/plain": [
       "array([23, 14,  1, ..., 14,  9, 13])"
      ]
     },
     "execution_count": 27,
     "metadata": {},
     "output_type": "execute_result"
    }
   ],
   "source": [
    "from hdbscan import HDBSCAN\n",
    "\n",
    "clusterer = HDBSCAN(alpha=1., min_cluster_size=25)\n",
    "clusterer.fit(data_scaled)\n",
    "clusterer.labels_"
   ]
  },
  {
   "cell_type": "code",
   "execution_count": 28,
   "id": "c57867b2",
   "metadata": {},
   "outputs": [
    {
     "data": {
      "text/plain": [
       "(array([-1,  0,  1,  2,  3,  4,  5,  6,  7,  8,  9, 10, 11, 12, 13, 14, 15,\n",
       "        16, 17, 18, 19, 20, 21, 22, 23, 24, 25, 26]),\n",
       " array([186,  78,  53, 325, 312,  86, 129,  76, 159, 157, 181, 154, 217,\n",
       "        325, 301, 888, 196, 153, 190, 230, 200, 921, 190, 122, 244, 359,\n",
       "         33, 141]))"
      ]
     },
     "execution_count": 28,
     "metadata": {},
     "output_type": "execute_result"
    }
   ],
   "source": [
    "np.unique(clusterer.labels_, return_counts=True)"
   ]
  },
  {
   "cell_type": "markdown",
   "id": "9dd86384",
   "metadata": {},
   "source": [
    "### Projetando nosso conjunto em duas dimensões com T-SNE para visualizá-lo"
   ]
  },
  {
   "cell_type": "code",
   "execution_count": 30,
   "id": "3d4e27f5",
   "metadata": {},
   "outputs": [
    {
     "name": "stderr",
     "output_type": "stream",
     "text": [
      "/home/fabris/miniconda3/envs/ml/lib/python3.8/site-packages/sklearn/manifold/_t_sne.py:790: FutureWarning: The default learning rate in TSNE will change from 200.0 to 'auto' in 1.2.\n",
      "  warnings.warn(\n",
      "/home/fabris/miniconda3/envs/ml/lib/python3.8/site-packages/sklearn/manifold/_t_sne.py:982: FutureWarning: The PCA initialization in TSNE will change to have the standard deviation of PC1 equal to 1e-4 in 1.2. This will ensure better convergence.\n",
      "  warnings.warn(\n"
     ]
    },
    {
     "data": {
      "text/plain": [
       "(6606, 2)"
      ]
     },
     "execution_count": 30,
     "metadata": {},
     "output_type": "execute_result"
    }
   ],
   "source": [
    "from sklearn.manifold import TSNE\n",
    "\n",
    "data_projected = TSNE(n_components=2, init='pca', random_state=1917).fit_transform(data)\n",
    "data_projected.shape"
   ]
  },
  {
   "cell_type": "code",
   "execution_count": 31,
   "id": "4ac91698",
   "metadata": {},
   "outputs": [
    {
     "data": {
      "image/png": "[encoded data removed]",
      "text/plain": [
       "<Figure size 432x288 with 1 Axes>"
      ]
     },
     "metadata": {
      "needs_background": "light"
     },
     "output_type": "display_data"
    }
   ],
   "source": [
    "x = data_projected[:, 0]\n",
    "y = data_projected[:, 1]\n",
    "plt.plot(x, y)\n",
    "plt.show()"
   ]
  },
  {
   "cell_type": "code",
   "execution_count": null,
   "id": "a9c48763",
   "metadata": {},
   "outputs": [],
   "source": []
  }
 ],
 "metadata": {
  "kernelspec": {
   "display_name": "Python 3 (ipykernel)",
   "language": "python",
   "name": "python3"
  },
  "language_info": {
   "codemirror_mode": {
    "name": "ipython",
    "version": 3
   },
   "file_extension": ".py",
   "mimetype": "text/x-python",
   "name": "python",
   "nbconvert_exporter": "python",
   "pygments_lexer": "ipython3",
   "version": "3.8.12"
  }
 },
 "nbformat": 4,
 "nbformat_minor": 5
}
