{
 "cells": [
  {
   "cell_type": "code",
   "execution_count": 1,
   "id": "c0771b60",
   "metadata": {},
   "outputs": [],
   "source": [
    "import pandas            as pd\n",
    "import numpy             as np\n",
    "import matplotlib.pyplot as plt\n",
    "import seaborn           as sns"
   ]
  },
  {
   "cell_type": "code",
   "execution_count": 2,
   "id": "a61f32d6",
   "metadata": {
    "scrolled": true
   },
   "outputs": [
    {
     "name": "stdout",
     "output_type": "stream",
     "text": [
      "<class 'pandas.core.frame.DataFrame'>\n",
      "RangeIndex: 6606 entries, 0 to 6605\n",
      "Data columns (total 10 columns):\n",
      " #   Column       Non-Null Count  Dtype  \n",
      "---  ------       --------------  -----  \n",
      " 0   HomePlanet   6606 non-null   float64\n",
      " 1   CryoSleep    6606 non-null   float64\n",
      " 2   Destination  6606 non-null   float64\n",
      " 3   Age          6606 non-null   float64\n",
      " 4   VIP          6606 non-null   float64\n",
      " 5   Transported  6606 non-null   float64\n",
      " 6   CabinDeck    6606 non-null   float64\n",
      " 7   CabinNumber  6606 non-null   float64\n",
      " 8   CabinSide    6606 non-null   float64\n",
      " 9   TotalSpent   6606 non-null   float64\n",
      "dtypes: float64(10)\n",
      "memory usage: 516.2 KB\n"
     ]
    }
   ],
   "source": [
    "from os import path\n",
    "\n",
    "data_dir  = 'data/spaceship-titanic'\n",
    "data_file = 'train_cluster.csv'\n",
    "data_path = path.join(data_dir, data_file)\n",
    "\n",
    "df = pd.read_csv(data_path)\n",
    "df.drop(columns='Unnamed: 0', inplace=True)\n",
    "\n",
    "df.info()"
   ]
  },
  {
   "cell_type": "code",
   "execution_count": 3,
   "id": "8ad55c55",
   "metadata": {},
   "outputs": [],
   "source": [
    "labels = df.pop('Transported')"
   ]
  },
  {
   "cell_type": "markdown",
   "id": "ade283cd",
   "metadata": {},
   "source": [
    "#### Normalizando nosso conjunto para o K-Means"
   ]
  },
  {
   "cell_type": "code",
   "execution_count": 4,
   "id": "28225171",
   "metadata": {},
   "outputs": [],
   "source": [
    "from sklearn.preprocessing import MinMaxScaler\n",
    "\n",
    "data = df.values\n",
    "data_scaled = MinMaxScaler().fit_transform(data)\n",
    "\n",
    "assert np.min(data_scaled) == 0. and np.max(data_scaled) == 1."
   ]
  },
  {
   "cell_type": "markdown",
   "id": "84878428",
   "metadata": {},
   "source": [
    "#### Aplicando o K-Means no nosso conjunto"
   ]
  },
  {
   "cell_type": "code",
   "execution_count": 7,
   "id": "867c66a2",
   "metadata": {},
   "outputs": [],
   "source": [
    "from sklearn.cluster import KMeans\n",
    "\n",
    "# Inicialmente para dois clusters - transportado para outra dimensão ou não\n",
    "kmeans = KMeans(n_clusters=2, init='k-means++', n_init=100, random_state=1917)\n",
    "preds = kmeans.fit_predict(data_scaled)"
   ]
  },
  {
   "cell_type": "markdown",
   "id": "7b0bc4d0",
   "metadata": {},
   "source": [
    "#### Comparando com a ground-truth dos dados"
   ]
  },
  {
   "cell_type": "code",
   "execution_count": 16,
   "id": "1a2a8887",
   "metadata": {},
   "outputs": [
    {
     "data": {
      "text/plain": [
       "0.44686648501362397"
      ]
     },
     "execution_count": 16,
     "metadata": {},
     "output_type": "execute_result"
    }
   ],
   "source": [
    "(labels == preds).mean()"
   ]
  },
  {
   "cell_type": "markdown",
   "id": "b3780585",
   "metadata": {},
   "source": [
    "#### Aplicando HDBSCAN no nosso conjunto"
   ]
  },
  {
   "cell_type": "code",
   "execution_count": 27,
   "id": "4999b5a3",
   "metadata": {},
   "outputs": [
    {
     "data": {
      "text/plain": [
       "array([23, 14,  1, ..., 14,  9, 13])"
      ]
     },
     "execution_count": 27,
     "metadata": {},
     "output_type": "execute_result"
    }
   ],
   "source": [
    "from hdbscan import HDBSCAN\n",
    "\n",
    "clusterer = HDBSCAN(alpha=1., min_cluster_size=25)\n",
    "clusterer.fit(data_scaled)\n",
    "clusterer.labels_"
   ]
  },
  {
   "cell_type": "code",
   "execution_count": 28,
   "id": "1c55b95a",
   "metadata": {},
   "outputs": [
    {
     "data": {
      "text/plain": [
       "(array([-1,  0,  1,  2,  3,  4,  5,  6,  7,  8,  9, 10, 11, 12, 13, 14, 15,\n",
       "        16, 17, 18, 19, 20, 21, 22, 23, 24, 25, 26]),\n",
       " array([186,  78,  53, 325, 312,  86, 129,  76, 159, 157, 181, 154, 217,\n",
       "        325, 301, 888, 196, 153, 190, 230, 200, 921, 190, 122, 244, 359,\n",
       "         33, 141]))"
      ]
     },
     "execution_count": 28,
     "metadata": {},
     "output_type": "execute_result"
    }
   ],
   "source": [
    "np.unique(clusterer.labels_, return_counts=True)"
   ]
  }
 ],
 "metadata": {
  "kernelspec": {
   "display_name": "Python 3 (ipykernel)",
   "language": "python",
   "name": "python3"
  },
  "language_info": {
   "codemirror_mode": {
    "name": "ipython",
    "version": 3
   },
   "file_extension": ".py",
   "mimetype": "text/x-python",
   "name": "python",
   "nbconvert_exporter": "python",
   "pygments_lexer": "ipython3",
   "version": "3.8.12"
  }
 },
 "nbformat": 4,
 "nbformat_minor": 5
}
