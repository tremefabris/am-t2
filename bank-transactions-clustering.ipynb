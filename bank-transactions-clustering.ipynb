{
 "cells": [
  {
   "cell_type": "code",
   "execution_count": 1,
   "id": "6ab841d0",
   "metadata": {},
   "outputs": [],
   "source": [
    "import numpy as np\n",
    "import pandas as pd\n",
    "import matplotlib.pyplot as plt\n",
    "import seaborn as sns"
   ]
  },
  {
   "cell_type": "code",
   "execution_count": 2,
   "id": "b74732f2",
   "metadata": {},
   "outputs": [
    {
     "name": "stdout",
     "output_type": "stream",
     "text": [
      "<class 'pandas.core.frame.DataFrame'>\n",
      "RangeIndex: 251810 entries, 0 to 251809\n",
      "Data columns (total 5 columns):\n",
      " #   Column                   Non-Null Count   Dtype  \n",
      "---  ------                   --------------   -----  \n",
      " 0   CustGender               251810 non-null  float64\n",
      " 1   CustAccountBalance       251810 non-null  float64\n",
      " 2   TransactionAmount (INR)  251810 non-null  float64\n",
      " 3   CustomerAge              251810 non-null  int64  \n",
      " 4   TransactionTimestamp     251810 non-null  float64\n",
      "dtypes: float64(4), int64(1)\n",
      "memory usage: 9.6 MB\n"
     ]
    }
   ],
   "source": [
    "from os import path\n",
    "\n",
    "data_dir = 'data/bank-transactions'\n",
    "data_file = 'bank-transactions-treated.csv'\n",
    "data_path = path.join(data_dir, data_file)\n",
    "\n",
    "df = pd.read_csv(data_path)\n",
    "df.info()"
   ]
  },
  {
   "cell_type": "markdown",
   "id": "890ac7a1",
   "metadata": {},
   "source": [
    "De acordo com as validações realizadas, percebemos que os melhores valores de K para o K-Means são 2 e 3. Por isso, os utilizaremos."
   ]
  },
  {
   "cell_type": "markdown",
   "id": "5129d2b3",
   "metadata": {},
   "source": [
    "## REALIZANDO O AGRUPAMENTO"
   ]
  },
  {
   "cell_type": "markdown",
   "id": "5f38c2fb",
   "metadata": {},
   "source": [
    "#### MinMaxScaler"
   ]
  },
  {
   "cell_type": "code",
   "execution_count": 3,
   "id": "2c8fbc24",
   "metadata": {},
   "outputs": [],
   "source": [
    "from sklearn.preprocessing import MinMaxScaler\n",
    "\n",
    "data_scaled = MinMaxScaler().fit_transform(df.values)"
   ]
  },
  {
   "cell_type": "markdown",
   "id": "4025b435",
   "metadata": {},
   "source": [
    "#### HDBSCAN"
   ]
  },
  {
   "cell_type": "code",
   "execution_count": 4,
   "id": "b663a4c5",
   "metadata": {},
   "outputs": [],
   "source": [
    "from hdbscan import HDBSCAN\n",
    "\n",
    "hdbscan = HDBSCAN(alpha=1., min_cluster_size=600)\n",
    "_ = hdbscan.fit(data_scaled)"
   ]
  },
  {
   "cell_type": "code",
   "execution_count": 5,
   "id": "f583fd64",
   "metadata": {},
   "outputs": [
    {
     "data": {
      "text/plain": [
       "(array([-1,  0,  1,  2,  3]), array([ 25341,  77692,   4956,   1016, 142805]))"
      ]
     },
     "execution_count": 5,
     "metadata": {},
     "output_type": "execute_result"
    }
   ],
   "source": [
    "np.unique(hdbscan.labels_, return_counts=True)"
   ]
  },
  {
   "cell_type": "markdown",
   "id": "25be5d8c",
   "metadata": {},
   "source": [
    "#### K-Means (K = 2)"
   ]
  },
  {
   "cell_type": "code",
   "execution_count": 6,
   "id": "bc40dc7a",
   "metadata": {},
   "outputs": [],
   "source": [
    "from sklearn.cluster import KMeans\n",
    "\n",
    "km2 = KMeans(n_clusters=2, init='k-means++', n_init=100, random_state=1917)\n",
    "preds_k2 = km2.fit_predict(data_scaled)"
   ]
  },
  {
   "cell_type": "code",
   "execution_count": 8,
   "id": "382c6644",
   "metadata": {},
   "outputs": [
    {
     "data": {
      "text/plain": [
       "(array([0, 1], dtype=int32), array([174118,  77692]))"
      ]
     },
     "execution_count": 8,
     "metadata": {},
     "output_type": "execute_result"
    }
   ],
   "source": [
    "np.unique(preds_k2, return_counts=True)"
   ]
  },
  {
   "cell_type": "markdown",
   "id": "221cc975",
   "metadata": {},
   "source": [
    "#### K-Means (K = 3)"
   ]
  },
  {
   "cell_type": "code",
   "execution_count": 9,
   "id": "da25caae",
   "metadata": {},
   "outputs": [],
   "source": [
    "from sklearn.cluster import KMeans\n",
    "\n",
    "km3 = KMeans(n_clusters=3, init='k-means++', n_init=100, random_state=1917)\n",
    "preds_k3 = km3.fit_predict(data_scaled)"
   ]
  },
  {
   "cell_type": "code",
   "execution_count": 10,
   "id": "92bed37f",
   "metadata": {
    "scrolled": true
   },
   "outputs": [
    {
     "data": {
      "text/plain": [
       "(array([0, 1, 2], dtype=int32), array([77692, 83853, 90265]))"
      ]
     },
     "execution_count": 10,
     "metadata": {},
     "output_type": "execute_result"
    }
   ],
   "source": [
    "np.unique(preds_k3, return_counts=True)"
   ]
  },
  {
   "cell_type": "markdown",
   "id": "e9357181",
   "metadata": {},
   "source": [
    "#### K-Means (K = 4)"
   ]
  },
  {
   "cell_type": "code",
   "execution_count": 11,
   "id": "61213d38",
   "metadata": {},
   "outputs": [],
   "source": [
    "from sklearn.cluster import KMeans\n",
    "\n",
    "km4 = KMeans(n_clusters=4, init='k-means++', n_init=100, random_state=1917)\n",
    "preds_k4 = km4.fit_predict(data_scaled)"
   ]
  },
  {
   "cell_type": "code",
   "execution_count": 12,
   "id": "8e66d0cf",
   "metadata": {},
   "outputs": [
    {
     "data": {
      "text/plain": [
       "(array([0, 1, 2, 3], dtype=int32), array([83853, 40462, 90265, 37230]))"
      ]
     },
     "execution_count": 12,
     "metadata": {},
     "output_type": "execute_result"
    }
   ],
   "source": [
    "np.unique(preds_k4, return_counts=True)"
   ]
  },
  {
   "cell_type": "markdown",
   "id": "824ce59f",
   "metadata": {},
   "source": [
    "### SALVANDO OS AGRUPAMENTOS DE VOLTA NO CONJUNTO"
   ]
  },
  {
   "cell_type": "markdown",
   "id": "df692a8f",
   "metadata": {},
   "source": [
    "Para podermos interpretar os agrupamentos, salvá-los-emos no DataFrame para podermos analisá-los depois."
   ]
  },
  {
   "cell_type": "code",
   "execution_count": 14,
   "id": "d07b5ce8",
   "metadata": {},
   "outputs": [
    {
     "data": {
      "text/html": [
       "<div>\n",
       "<style scoped>\n",
       "    .dataframe tbody tr th:only-of-type {\n",
       "        vertical-align: middle;\n",
       "    }\n",
       "\n",
       "    .dataframe tbody tr th {\n",
       "        vertical-align: top;\n",
       "    }\n",
       "\n",
       "    .dataframe thead th {\n",
       "        text-align: right;\n",
       "    }\n",
       "</style>\n",
       "<table border=\"1\" class=\"dataframe\">\n",
       "  <thead>\n",
       "    <tr style=\"text-align: right;\">\n",
       "      <th></th>\n",
       "      <th>CustGender</th>\n",
       "      <th>CustAccountBalance</th>\n",
       "      <th>TransactionAmount (INR)</th>\n",
       "      <th>CustomerAge</th>\n",
       "      <th>TransactionTimestamp</th>\n",
       "    </tr>\n",
       "  </thead>\n",
       "  <tbody>\n",
       "    <tr>\n",
       "      <th>0</th>\n",
       "      <td>1.0</td>\n",
       "      <td>17874.44</td>\n",
       "      <td>459.00</td>\n",
       "      <td>26</td>\n",
       "      <td>1.470159e+09</td>\n",
       "    </tr>\n",
       "    <tr>\n",
       "      <th>1</th>\n",
       "      <td>1.0</td>\n",
       "      <td>866503.21</td>\n",
       "      <td>2060.00</td>\n",
       "      <td>49</td>\n",
       "      <td>1.470159e+09</td>\n",
       "    </tr>\n",
       "    <tr>\n",
       "      <th>2</th>\n",
       "      <td>1.0</td>\n",
       "      <td>973.46</td>\n",
       "      <td>566.00</td>\n",
       "      <td>30</td>\n",
       "      <td>1.470170e+09</td>\n",
       "    </tr>\n",
       "    <tr>\n",
       "      <th>3</th>\n",
       "      <td>0.0</td>\n",
       "      <td>95075.54</td>\n",
       "      <td>148.00</td>\n",
       "      <td>40</td>\n",
       "      <td>1.470168e+09</td>\n",
       "    </tr>\n",
       "    <tr>\n",
       "      <th>4</th>\n",
       "      <td>0.0</td>\n",
       "      <td>4279.22</td>\n",
       "      <td>289.11</td>\n",
       "      <td>38</td>\n",
       "      <td>1.470177e+09</td>\n",
       "    </tr>\n",
       "  </tbody>\n",
       "</table>\n",
       "</div>"
      ],
      "text/plain": [
       "   CustGender  CustAccountBalance  TransactionAmount (INR)  CustomerAge  \\\n",
       "0         1.0            17874.44                   459.00           26   \n",
       "1         1.0           866503.21                  2060.00           49   \n",
       "2         1.0              973.46                   566.00           30   \n",
       "3         0.0            95075.54                   148.00           40   \n",
       "4         0.0             4279.22                   289.11           38   \n",
       "\n",
       "   TransactionTimestamp  \n",
       "0          1.470159e+09  \n",
       "1          1.470159e+09  \n",
       "2          1.470170e+09  \n",
       "3          1.470168e+09  \n",
       "4          1.470177e+09  "
      ]
     },
     "execution_count": 14,
     "metadata": {},
     "output_type": "execute_result"
    }
   ],
   "source": [
    "df.head(5)"
   ]
  },
  {
   "cell_type": "code",
   "execution_count": 20,
   "id": "87c535aa",
   "metadata": {},
   "outputs": [],
   "source": [
    "df['KMeans2'] = preds_k2\n",
    "df['KMeans3'] = preds_k3\n",
    "df['KMeans4'] = preds_k4\n",
    "df['HDBSCAN'] = hdbscan.labels_"
   ]
  },
  {
   "cell_type": "code",
   "execution_count": 21,
   "id": "696bd18c",
   "metadata": {},
   "outputs": [
    {
     "data": {
      "text/html": [
       "<div>\n",
       "<style scoped>\n",
       "    .dataframe tbody tr th:only-of-type {\n",
       "        vertical-align: middle;\n",
       "    }\n",
       "\n",
       "    .dataframe tbody tr th {\n",
       "        vertical-align: top;\n",
       "    }\n",
       "\n",
       "    .dataframe thead th {\n",
       "        text-align: right;\n",
       "    }\n",
       "</style>\n",
       "<table border=\"1\" class=\"dataframe\">\n",
       "  <thead>\n",
       "    <tr style=\"text-align: right;\">\n",
       "      <th></th>\n",
       "      <th>CustGender</th>\n",
       "      <th>CustAccountBalance</th>\n",
       "      <th>TransactionAmount (INR)</th>\n",
       "      <th>CustomerAge</th>\n",
       "      <th>TransactionTimestamp</th>\n",
       "      <th>KMeans2</th>\n",
       "      <th>KMeans3</th>\n",
       "      <th>HDBSCAN</th>\n",
       "      <th>KMeans4</th>\n",
       "    </tr>\n",
       "  </thead>\n",
       "  <tbody>\n",
       "    <tr>\n",
       "      <th>0</th>\n",
       "      <td>1.0</td>\n",
       "      <td>17874.44</td>\n",
       "      <td>459.00</td>\n",
       "      <td>26</td>\n",
       "      <td>1.470159e+09</td>\n",
       "      <td>1</td>\n",
       "      <td>0</td>\n",
       "      <td>0</td>\n",
       "      <td>1</td>\n",
       "    </tr>\n",
       "    <tr>\n",
       "      <th>1</th>\n",
       "      <td>1.0</td>\n",
       "      <td>866503.21</td>\n",
       "      <td>2060.00</td>\n",
       "      <td>49</td>\n",
       "      <td>1.470159e+09</td>\n",
       "      <td>1</td>\n",
       "      <td>0</td>\n",
       "      <td>0</td>\n",
       "      <td>1</td>\n",
       "    </tr>\n",
       "    <tr>\n",
       "      <th>2</th>\n",
       "      <td>1.0</td>\n",
       "      <td>973.46</td>\n",
       "      <td>566.00</td>\n",
       "      <td>30</td>\n",
       "      <td>1.470170e+09</td>\n",
       "      <td>1</td>\n",
       "      <td>0</td>\n",
       "      <td>0</td>\n",
       "      <td>1</td>\n",
       "    </tr>\n",
       "    <tr>\n",
       "      <th>3</th>\n",
       "      <td>0.0</td>\n",
       "      <td>95075.54</td>\n",
       "      <td>148.00</td>\n",
       "      <td>40</td>\n",
       "      <td>1.470168e+09</td>\n",
       "      <td>0</td>\n",
       "      <td>2</td>\n",
       "      <td>3</td>\n",
       "      <td>2</td>\n",
       "    </tr>\n",
       "    <tr>\n",
       "      <th>4</th>\n",
       "      <td>0.0</td>\n",
       "      <td>4279.22</td>\n",
       "      <td>289.11</td>\n",
       "      <td>38</td>\n",
       "      <td>1.470177e+09</td>\n",
       "      <td>0</td>\n",
       "      <td>2</td>\n",
       "      <td>3</td>\n",
       "      <td>2</td>\n",
       "    </tr>\n",
       "  </tbody>\n",
       "</table>\n",
       "</div>"
      ],
      "text/plain": [
       "   CustGender  CustAccountBalance  TransactionAmount (INR)  CustomerAge  \\\n",
       "0         1.0            17874.44                   459.00           26   \n",
       "1         1.0           866503.21                  2060.00           49   \n",
       "2         1.0              973.46                   566.00           30   \n",
       "3         0.0            95075.54                   148.00           40   \n",
       "4         0.0             4279.22                   289.11           38   \n",
       "\n",
       "   TransactionTimestamp  KMeans2  KMeans3  HDBSCAN  KMeans4  \n",
       "0          1.470159e+09        1        0        0        1  \n",
       "1          1.470159e+09        1        0        0        1  \n",
       "2          1.470170e+09        1        0        0        1  \n",
       "3          1.470168e+09        0        2        3        2  \n",
       "4          1.470177e+09        0        2        3        2  "
      ]
     },
     "execution_count": 21,
     "metadata": {},
     "output_type": "execute_result"
    }
   ],
   "source": [
    "df.head(5)"
   ]
  },
  {
   "cell_type": "code",
   "execution_count": 25,
   "id": "7deb3ffc",
   "metadata": {},
   "outputs": [],
   "source": [
    "data_file_new = 'bank-transactions-groups.csv'\n",
    "data_path_new = path.join(data_dir, data_file_new)\n",
    "\n",
    "df.to_csv(data_path_new, index=False)"
   ]
  }
 ],
 "metadata": {
  "kernelspec": {
   "display_name": "Python 3 (ipykernel)",
   "language": "python",
   "name": "python3"
  },
  "language_info": {
   "codemirror_mode": {
    "name": "ipython",
    "version": 3
   },
   "file_extension": ".py",
   "mimetype": "text/x-python",
   "name": "python",
   "nbconvert_exporter": "python",
   "pygments_lexer": "ipython3",
   "version": "3.8.12"
  }
 },
 "nbformat": 4,
 "nbformat_minor": 5
}
