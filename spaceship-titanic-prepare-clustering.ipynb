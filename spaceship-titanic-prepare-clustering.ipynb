{
 "cells": [
  {
   "cell_type": "code",
   "execution_count": 32,
   "id": "c0771b60",
   "metadata": {},
   "outputs": [],
   "source": [
    "import pandas            as pd\n",
    "import numpy             as np\n",
    "import matplotlib.pyplot as plt\n",
    "import seaborn           as sns"
   ]
  },
  {
   "cell_type": "code",
   "execution_count": 33,
   "id": "a61f32d6",
   "metadata": {},
   "outputs": [
    {
     "name": "stdout",
     "output_type": "stream",
     "text": [
      "<class 'pandas.core.frame.DataFrame'>\n",
      "RangeIndex: 6606 entries, 0 to 6605\n",
      "Data columns (total 20 columns):\n",
      " #   Column           Non-Null Count  Dtype  \n",
      "---  ------           --------------  -----  \n",
      " 0   Unnamed: 0       6606 non-null   int64  \n",
      " 1   HomePlanet       6606 non-null   object \n",
      " 2   CryoSleep        6606 non-null   bool   \n",
      " 3   Cabin            6606 non-null   object \n",
      " 4   Destination      6606 non-null   object \n",
      " 5   Age              6606 non-null   float64\n",
      " 6   VIP              6606 non-null   bool   \n",
      " 7   RoomService      6606 non-null   float64\n",
      " 8   FoodCourt        6606 non-null   float64\n",
      " 9   ShoppingMall     6606 non-null   float64\n",
      " 10  Spa              6606 non-null   float64\n",
      " 11  VRDeck           6606 non-null   float64\n",
      " 12  Name             6606 non-null   object \n",
      " 13  Transported      6606 non-null   bool   \n",
      " 14  PassengerGroup   6606 non-null   int64  \n",
      " 15  PassengerNumber  6606 non-null   int64  \n",
      " 16  CabinDeck        6606 non-null   object \n",
      " 17  CabinNumber      6606 non-null   int64  \n",
      " 18  CabinSide        6606 non-null   object \n",
      " 19  TotalSpent       6606 non-null   float64\n",
      "dtypes: bool(3), float64(7), int64(4), object(6)\n",
      "memory usage: 896.8+ KB\n"
     ]
    }
   ],
   "source": [
    "from os import path\n",
    "\n",
    "data_dir  = 'data/spaceship-titanic'\n",
    "data_file = 'train_clean.csv'\n",
    "data_path = path.join(data_dir, data_file)\n",
    "\n",
    "df = pd.read_csv(data_path)\n",
    "df.info()"
   ]
  },
  {
   "cell_type": "code",
   "execution_count": 34,
   "id": "db96e318",
   "metadata": {},
   "outputs": [
    {
     "name": "stdout",
     "output_type": "stream",
     "text": [
      "<class 'pandas.core.frame.DataFrame'>\n",
      "RangeIndex: 6606 entries, 0 to 6605\n",
      "Data columns (total 9 columns):\n",
      " #   Column       Non-Null Count  Dtype  \n",
      "---  ------       --------------  -----  \n",
      " 0   HomePlanet   6606 non-null   object \n",
      " 1   CryoSleep    6606 non-null   bool   \n",
      " 2   Destination  6606 non-null   object \n",
      " 3   Age          6606 non-null   float64\n",
      " 4   VIP          6606 non-null   bool   \n",
      " 5   CabinDeck    6606 non-null   object \n",
      " 6   CabinNumber  6606 non-null   int64  \n",
      " 7   CabinSide    6606 non-null   object \n",
      " 8   TotalSpent   6606 non-null   float64\n",
      "dtypes: bool(2), float64(2), int64(1), object(4)\n",
      "memory usage: 374.3+ KB\n"
     ]
    }
   ],
   "source": [
    "df = df.drop(columns = ['Unnamed: 0', 'Cabin', 'RoomService', 'FoodCourt', 'ShoppingMall', 'Spa', 'VRDeck', 'Name', 'Transported', 'PassengerGroup', 'PassengerNumber'])\n",
    "df.info()"
   ]
  },
  {
   "cell_type": "code",
   "execution_count": 35,
   "id": "eaa3b2c6",
   "metadata": {},
   "outputs": [],
   "source": [
    "# salvar o dataframe apos o drop\n",
    "#df.to_csv('train_dropped.csv', index = False)"
   ]
  }
 ],
 "metadata": {
  "kernelspec": {
   "display_name": "Python 3 (ipykernel)",
   "language": "python",
   "name": "python3"
  },
  "language_info": {
   "codemirror_mode": {
    "name": "ipython",
    "version": 3
   },
   "file_extension": ".py",
   "mimetype": "text/x-python",
   "name": "python",
   "nbconvert_exporter": "python",
   "pygments_lexer": "ipython3",
   "version": "3.8.12"
  }
 },
 "nbformat": 4,
 "nbformat_minor": 5
}
