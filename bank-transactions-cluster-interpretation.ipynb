{
 "cells": [
  {
   "cell_type": "code",
   "execution_count": 1,
   "id": "6ab841d0",
   "metadata": {},
   "outputs": [],
   "source": [
    "import numpy as np\n",
    "import pandas as pd\n",
    "import matplotlib.pyplot as plt\n",
    "import seaborn as sns"
   ]
  },
  {
   "cell_type": "code",
   "execution_count": 2,
   "id": "b74732f2",
   "metadata": {},
   "outputs": [
    {
     "name": "stdout",
     "output_type": "stream",
     "text": [
      "<class 'pandas.core.frame.DataFrame'>\n",
      "RangeIndex: 1048567 entries, 0 to 1048566\n",
      "Data columns (total 9 columns):\n",
      " #   Column                   Non-Null Count    Dtype  \n",
      "---  ------                   --------------    -----  \n",
      " 0   TransactionID            1048567 non-null  object \n",
      " 1   CustomerID               1048567 non-null  object \n",
      " 2   CustomerDOB              1045170 non-null  object \n",
      " 3   CustGender               1047467 non-null  object \n",
      " 4   CustLocation             1048416 non-null  object \n",
      " 5   CustAccountBalance       1046198 non-null  float64\n",
      " 6   TransactionDate          1048567 non-null  object \n",
      " 7   TransactionTime          1048567 non-null  int64  \n",
      " 8   TransactionAmount (INR)  1048567 non-null  float64\n",
      "dtypes: float64(2), int64(1), object(6)\n",
      "memory usage: 72.0+ MB\n"
     ]
    }
   ],
   "source": [
    "from os import path\n",
    "\n",
    "data_dir = 'data/bank-transactions'\n",
    "data_file = 'bank-transactions.csv'\n",
    "data_path = path.join(data_dir, data_file)\n",
    "\n",
    "df = pd.read_csv(data_path)\n",
    "df.info()"
   ]
  },
  {
   "cell_type": "markdown",
   "id": "3e158a88",
   "metadata": {},
   "source": [
    "#### Droppando nulos"
   ]
  },
  {
   "cell_type": "code",
   "execution_count": 3,
   "id": "7869a3f4",
   "metadata": {},
   "outputs": [],
   "source": [
    "df.dropna(inplace=True)"
   ]
  },
  {
   "cell_type": "markdown",
   "id": "bd4ea994",
   "metadata": {},
   "source": [
    "#### Transformando atributos"
   ]
  },
  {
   "cell_type": "markdown",
   "id": "7da8d536",
   "metadata": {},
   "source": [
    "Transformando Date Of Birth (DOB) em idade"
   ]
  },
  {
   "cell_type": "code",
   "execution_count": 4,
   "id": "af51b6e7",
   "metadata": {},
   "outputs": [
    {
     "data": {
      "text/html": [
       "<div>\n",
       "<style scoped>\n",
       "    .dataframe tbody tr th:only-of-type {\n",
       "        vertical-align: middle;\n",
       "    }\n",
       "\n",
       "    .dataframe tbody tr th {\n",
       "        vertical-align: top;\n",
       "    }\n",
       "\n",
       "    .dataframe thead th {\n",
       "        text-align: right;\n",
       "    }\n",
       "</style>\n",
       "<table border=\"1\" class=\"dataframe\">\n",
       "  <thead>\n",
       "    <tr style=\"text-align: right;\">\n",
       "      <th></th>\n",
       "      <th>DayDOB</th>\n",
       "      <th>MonthDOB</th>\n",
       "      <th>YearDOB</th>\n",
       "    </tr>\n",
       "  </thead>\n",
       "  <tbody>\n",
       "    <tr>\n",
       "      <th>0</th>\n",
       "      <td>10</td>\n",
       "      <td>1</td>\n",
       "      <td>94</td>\n",
       "    </tr>\n",
       "    <tr>\n",
       "      <th>1</th>\n",
       "      <td>4</td>\n",
       "      <td>4</td>\n",
       "      <td>57</td>\n",
       "    </tr>\n",
       "    <tr>\n",
       "      <th>2</th>\n",
       "      <td>26</td>\n",
       "      <td>11</td>\n",
       "      <td>96</td>\n",
       "    </tr>\n",
       "    <tr>\n",
       "      <th>3</th>\n",
       "      <td>14</td>\n",
       "      <td>9</td>\n",
       "      <td>73</td>\n",
       "    </tr>\n",
       "    <tr>\n",
       "      <th>4</th>\n",
       "      <td>24</td>\n",
       "      <td>3</td>\n",
       "      <td>88</td>\n",
       "    </tr>\n",
       "    <tr>\n",
       "      <th>...</th>\n",
       "      <td>...</td>\n",
       "      <td>...</td>\n",
       "      <td>...</td>\n",
       "    </tr>\n",
       "    <tr>\n",
       "      <th>1048562</th>\n",
       "      <td>8</td>\n",
       "      <td>4</td>\n",
       "      <td>90</td>\n",
       "    </tr>\n",
       "    <tr>\n",
       "      <th>1048563</th>\n",
       "      <td>20</td>\n",
       "      <td>2</td>\n",
       "      <td>92</td>\n",
       "    </tr>\n",
       "    <tr>\n",
       "      <th>1048564</th>\n",
       "      <td>18</td>\n",
       "      <td>5</td>\n",
       "      <td>89</td>\n",
       "    </tr>\n",
       "    <tr>\n",
       "      <th>1048565</th>\n",
       "      <td>30</td>\n",
       "      <td>8</td>\n",
       "      <td>78</td>\n",
       "    </tr>\n",
       "    <tr>\n",
       "      <th>1048566</th>\n",
       "      <td>5</td>\n",
       "      <td>3</td>\n",
       "      <td>84</td>\n",
       "    </tr>\n",
       "  </tbody>\n",
       "</table>\n",
       "<p>1041614 rows × 3 columns</p>\n",
       "</div>"
      ],
      "text/plain": [
       "         DayDOB  MonthDOB  YearDOB\n",
       "0            10         1       94\n",
       "1             4         4       57\n",
       "2            26        11       96\n",
       "3            14         9       73\n",
       "4            24         3       88\n",
       "...         ...       ...      ...\n",
       "1048562       8         4       90\n",
       "1048563      20         2       92\n",
       "1048564      18         5       89\n",
       "1048565      30         8       78\n",
       "1048566       5         3       84\n",
       "\n",
       "[1041614 rows x 3 columns]"
      ]
     },
     "execution_count": 4,
     "metadata": {},
     "output_type": "execute_result"
    }
   ],
   "source": [
    "def takeYear(dob):\n",
    "    return list( map(lambda x: int(x), dob.split('/')) )[-1]\n",
    "\n",
    "def takeMonth(dob):\n",
    "    return list( map(lambda x: int(x), dob.split('/')) )[1]\n",
    "\n",
    "def takeDay(dob):\n",
    "    return list( map(lambda x: int(x), dob.split('/')) )[0]\n",
    "    \n",
    "df['YearDOB'] = df['CustomerDOB'].apply(takeYear)\n",
    "df['MonthDOB'] = df['CustomerDOB'].apply(takeMonth)\n",
    "df['DayDOB'] = df['CustomerDOB'].apply(takeDay)\n",
    "\n",
    "df[['DayDOB', 'MonthDOB', 'YearDOB']]"
   ]
  },
  {
   "cell_type": "markdown",
   "id": "fe65cb60",
   "metadata": {},
   "source": [
    "Validando dias, meses e anos"
   ]
  },
  {
   "cell_type": "code",
   "execution_count": 5,
   "id": "84d94259",
   "metadata": {},
   "outputs": [
    {
     "data": {
      "text/plain": [
       "(True, True, False)"
      ]
     },
     "execution_count": 5,
     "metadata": {},
     "output_type": "execute_result"
    }
   ],
   "source": [
    "day_valid = (df['DayDOB'] <= 31) & (df['DayDOB'] >= 1)\n",
    "month_valid = (df['MonthDOB'] <= 12) & (df['MonthDOB'] >= 1)\n",
    "year_valid = (df['YearDOB'] <= 99) & (df['YearDOB'] >= 0)\n",
    "\n",
    "day_valid.all(), month_valid.all(), year_valid.all()"
   ]
  },
  {
   "cell_type": "markdown",
   "id": "5d64aacd",
   "metadata": {},
   "source": [
    "Removendo as entradas com valores inválidos para ano"
   ]
  },
  {
   "cell_type": "code",
   "execution_count": 6,
   "id": "2f6abb9b",
   "metadata": {},
   "outputs": [
    {
     "data": {
      "text/html": [
       "<div>\n",
       "<style scoped>\n",
       "    .dataframe tbody tr th:only-of-type {\n",
       "        vertical-align: middle;\n",
       "    }\n",
       "\n",
       "    .dataframe tbody tr th {\n",
       "        vertical-align: top;\n",
       "    }\n",
       "\n",
       "    .dataframe thead th {\n",
       "        text-align: right;\n",
       "    }\n",
       "</style>\n",
       "<table border=\"1\" class=\"dataframe\">\n",
       "  <thead>\n",
       "    <tr style=\"text-align: right;\">\n",
       "      <th></th>\n",
       "      <th>TransactionID</th>\n",
       "      <th>CustomerID</th>\n",
       "      <th>CustomerDOB</th>\n",
       "      <th>CustGender</th>\n",
       "      <th>CustLocation</th>\n",
       "      <th>CustAccountBalance</th>\n",
       "      <th>TransactionDate</th>\n",
       "      <th>TransactionTime</th>\n",
       "      <th>TransactionAmount (INR)</th>\n",
       "      <th>YearDOB</th>\n",
       "      <th>MonthDOB</th>\n",
       "      <th>DayDOB</th>\n",
       "    </tr>\n",
       "  </thead>\n",
       "  <tbody>\n",
       "    <tr>\n",
       "      <th>0</th>\n",
       "      <td>T1</td>\n",
       "      <td>C5841053</td>\n",
       "      <td>10/1/94</td>\n",
       "      <td>F</td>\n",
       "      <td>JAMSHEDPUR</td>\n",
       "      <td>17819.05</td>\n",
       "      <td>2/8/16</td>\n",
       "      <td>143207</td>\n",
       "      <td>25.0</td>\n",
       "      <td>94</td>\n",
       "      <td>1</td>\n",
       "      <td>10</td>\n",
       "    </tr>\n",
       "    <tr>\n",
       "      <th>1</th>\n",
       "      <td>T2</td>\n",
       "      <td>C2142763</td>\n",
       "      <td>4/4/57</td>\n",
       "      <td>M</td>\n",
       "      <td>JHAJJAR</td>\n",
       "      <td>2270.69</td>\n",
       "      <td>2/8/16</td>\n",
       "      <td>141858</td>\n",
       "      <td>27999.0</td>\n",
       "      <td>57</td>\n",
       "      <td>4</td>\n",
       "      <td>4</td>\n",
       "    </tr>\n",
       "    <tr>\n",
       "      <th>2</th>\n",
       "      <td>T3</td>\n",
       "      <td>C4417068</td>\n",
       "      <td>26/11/96</td>\n",
       "      <td>F</td>\n",
       "      <td>MUMBAI</td>\n",
       "      <td>17874.44</td>\n",
       "      <td>2/8/16</td>\n",
       "      <td>142712</td>\n",
       "      <td>459.0</td>\n",
       "      <td>96</td>\n",
       "      <td>11</td>\n",
       "      <td>26</td>\n",
       "    </tr>\n",
       "    <tr>\n",
       "      <th>3</th>\n",
       "      <td>T4</td>\n",
       "      <td>C5342380</td>\n",
       "      <td>14/9/73</td>\n",
       "      <td>F</td>\n",
       "      <td>MUMBAI</td>\n",
       "      <td>866503.21</td>\n",
       "      <td>2/8/16</td>\n",
       "      <td>142714</td>\n",
       "      <td>2060.0</td>\n",
       "      <td>73</td>\n",
       "      <td>9</td>\n",
       "      <td>14</td>\n",
       "    </tr>\n",
       "    <tr>\n",
       "      <th>4</th>\n",
       "      <td>T5</td>\n",
       "      <td>C9031234</td>\n",
       "      <td>24/3/88</td>\n",
       "      <td>F</td>\n",
       "      <td>NAVI MUMBAI</td>\n",
       "      <td>6714.43</td>\n",
       "      <td>2/8/16</td>\n",
       "      <td>181156</td>\n",
       "      <td>1762.5</td>\n",
       "      <td>88</td>\n",
       "      <td>3</td>\n",
       "      <td>24</td>\n",
       "    </tr>\n",
       "    <tr>\n",
       "      <th>...</th>\n",
       "      <td>...</td>\n",
       "      <td>...</td>\n",
       "      <td>...</td>\n",
       "      <td>...</td>\n",
       "      <td>...</td>\n",
       "      <td>...</td>\n",
       "      <td>...</td>\n",
       "      <td>...</td>\n",
       "      <td>...</td>\n",
       "      <td>...</td>\n",
       "      <td>...</td>\n",
       "      <td>...</td>\n",
       "    </tr>\n",
       "    <tr>\n",
       "      <th>1048562</th>\n",
       "      <td>T1048563</td>\n",
       "      <td>C8020229</td>\n",
       "      <td>8/4/90</td>\n",
       "      <td>M</td>\n",
       "      <td>NEW DELHI</td>\n",
       "      <td>7635.19</td>\n",
       "      <td>18/9/16</td>\n",
       "      <td>184824</td>\n",
       "      <td>799.0</td>\n",
       "      <td>90</td>\n",
       "      <td>4</td>\n",
       "      <td>8</td>\n",
       "    </tr>\n",
       "    <tr>\n",
       "      <th>1048563</th>\n",
       "      <td>T1048564</td>\n",
       "      <td>C6459278</td>\n",
       "      <td>20/2/92</td>\n",
       "      <td>M</td>\n",
       "      <td>NASHIK</td>\n",
       "      <td>27311.42</td>\n",
       "      <td>18/9/16</td>\n",
       "      <td>183734</td>\n",
       "      <td>460.0</td>\n",
       "      <td>92</td>\n",
       "      <td>2</td>\n",
       "      <td>20</td>\n",
       "    </tr>\n",
       "    <tr>\n",
       "      <th>1048564</th>\n",
       "      <td>T1048565</td>\n",
       "      <td>C6412354</td>\n",
       "      <td>18/5/89</td>\n",
       "      <td>M</td>\n",
       "      <td>HYDERABAD</td>\n",
       "      <td>221757.06</td>\n",
       "      <td>18/9/16</td>\n",
       "      <td>183313</td>\n",
       "      <td>770.0</td>\n",
       "      <td>89</td>\n",
       "      <td>5</td>\n",
       "      <td>18</td>\n",
       "    </tr>\n",
       "    <tr>\n",
       "      <th>1048565</th>\n",
       "      <td>T1048566</td>\n",
       "      <td>C6420483</td>\n",
       "      <td>30/8/78</td>\n",
       "      <td>M</td>\n",
       "      <td>VISAKHAPATNAM</td>\n",
       "      <td>10117.87</td>\n",
       "      <td>18/9/16</td>\n",
       "      <td>184706</td>\n",
       "      <td>1000.0</td>\n",
       "      <td>78</td>\n",
       "      <td>8</td>\n",
       "      <td>30</td>\n",
       "    </tr>\n",
       "    <tr>\n",
       "      <th>1048566</th>\n",
       "      <td>T1048567</td>\n",
       "      <td>C8337524</td>\n",
       "      <td>5/3/84</td>\n",
       "      <td>M</td>\n",
       "      <td>PUNE</td>\n",
       "      <td>75734.42</td>\n",
       "      <td>18/9/16</td>\n",
       "      <td>181222</td>\n",
       "      <td>1166.0</td>\n",
       "      <td>84</td>\n",
       "      <td>3</td>\n",
       "      <td>5</td>\n",
       "    </tr>\n",
       "  </tbody>\n",
       "</table>\n",
       "<p>985322 rows × 12 columns</p>\n",
       "</div>"
      ],
      "text/plain": [
       "        TransactionID CustomerID CustomerDOB CustGender   CustLocation  \\\n",
       "0                  T1   C5841053     10/1/94          F     JAMSHEDPUR   \n",
       "1                  T2   C2142763      4/4/57          M        JHAJJAR   \n",
       "2                  T3   C4417068    26/11/96          F         MUMBAI   \n",
       "3                  T4   C5342380     14/9/73          F         MUMBAI   \n",
       "4                  T5   C9031234     24/3/88          F    NAVI MUMBAI   \n",
       "...               ...        ...         ...        ...            ...   \n",
       "1048562      T1048563   C8020229      8/4/90          M      NEW DELHI   \n",
       "1048563      T1048564   C6459278     20/2/92          M         NASHIK   \n",
       "1048564      T1048565   C6412354     18/5/89          M      HYDERABAD   \n",
       "1048565      T1048566   C6420483     30/8/78          M  VISAKHAPATNAM   \n",
       "1048566      T1048567   C8337524      5/3/84          M           PUNE   \n",
       "\n",
       "         CustAccountBalance TransactionDate  TransactionTime  \\\n",
       "0                  17819.05          2/8/16           143207   \n",
       "1                   2270.69          2/8/16           141858   \n",
       "2                  17874.44          2/8/16           142712   \n",
       "3                 866503.21          2/8/16           142714   \n",
       "4                   6714.43          2/8/16           181156   \n",
       "...                     ...             ...              ...   \n",
       "1048562             7635.19         18/9/16           184824   \n",
       "1048563            27311.42         18/9/16           183734   \n",
       "1048564           221757.06         18/9/16           183313   \n",
       "1048565            10117.87         18/9/16           184706   \n",
       "1048566            75734.42         18/9/16           181222   \n",
       "\n",
       "         TransactionAmount (INR)  YearDOB  MonthDOB  DayDOB  \n",
       "0                           25.0       94         1      10  \n",
       "1                        27999.0       57         4       4  \n",
       "2                          459.0       96        11      26  \n",
       "3                         2060.0       73         9      14  \n",
       "4                         1762.5       88         3      24  \n",
       "...                          ...      ...       ...     ...  \n",
       "1048562                    799.0       90         4       8  \n",
       "1048563                    460.0       92         2      20  \n",
       "1048564                    770.0       89         5      18  \n",
       "1048565                   1000.0       78         8      30  \n",
       "1048566                   1166.0       84         3       5  \n",
       "\n",
       "[985322 rows x 12 columns]"
      ]
     },
     "execution_count": 6,
     "metadata": {},
     "output_type": "execute_result"
    }
   ],
   "source": [
    "df = df[year_valid]\n",
    "df"
   ]
  },
  {
   "cell_type": "markdown",
   "id": "33782c2d",
   "metadata": {},
   "source": [
    "Utilizando apenas o ano para decidir idade"
   ]
  },
  {
   "cell_type": "code",
   "execution_count": 7,
   "id": "3dd8f6ff",
   "metadata": {},
   "outputs": [
    {
     "data": {
      "text/html": [
       "<div>\n",
       "<style scoped>\n",
       "    .dataframe tbody tr th:only-of-type {\n",
       "        vertical-align: middle;\n",
       "    }\n",
       "\n",
       "    .dataframe tbody tr th {\n",
       "        vertical-align: top;\n",
       "    }\n",
       "\n",
       "    .dataframe thead th {\n",
       "        text-align: right;\n",
       "    }\n",
       "</style>\n",
       "<table border=\"1\" class=\"dataframe\">\n",
       "  <thead>\n",
       "    <tr style=\"text-align: right;\">\n",
       "      <th></th>\n",
       "      <th>CustomerAge</th>\n",
       "      <th>YearDOB</th>\n",
       "    </tr>\n",
       "  </thead>\n",
       "  <tbody>\n",
       "    <tr>\n",
       "      <th>0</th>\n",
       "      <td>28</td>\n",
       "      <td>94</td>\n",
       "    </tr>\n",
       "    <tr>\n",
       "      <th>1</th>\n",
       "      <td>65</td>\n",
       "      <td>57</td>\n",
       "    </tr>\n",
       "    <tr>\n",
       "      <th>2</th>\n",
       "      <td>26</td>\n",
       "      <td>96</td>\n",
       "    </tr>\n",
       "    <tr>\n",
       "      <th>3</th>\n",
       "      <td>49</td>\n",
       "      <td>73</td>\n",
       "    </tr>\n",
       "    <tr>\n",
       "      <th>4</th>\n",
       "      <td>34</td>\n",
       "      <td>88</td>\n",
       "    </tr>\n",
       "    <tr>\n",
       "      <th>...</th>\n",
       "      <td>...</td>\n",
       "      <td>...</td>\n",
       "    </tr>\n",
       "    <tr>\n",
       "      <th>1048562</th>\n",
       "      <td>32</td>\n",
       "      <td>90</td>\n",
       "    </tr>\n",
       "    <tr>\n",
       "      <th>1048563</th>\n",
       "      <td>30</td>\n",
       "      <td>92</td>\n",
       "    </tr>\n",
       "    <tr>\n",
       "      <th>1048564</th>\n",
       "      <td>33</td>\n",
       "      <td>89</td>\n",
       "    </tr>\n",
       "    <tr>\n",
       "      <th>1048565</th>\n",
       "      <td>44</td>\n",
       "      <td>78</td>\n",
       "    </tr>\n",
       "    <tr>\n",
       "      <th>1048566</th>\n",
       "      <td>38</td>\n",
       "      <td>84</td>\n",
       "    </tr>\n",
       "  </tbody>\n",
       "</table>\n",
       "<p>985322 rows × 2 columns</p>\n",
       "</div>"
      ],
      "text/plain": [
       "         CustomerAge  YearDOB\n",
       "0                 28       94\n",
       "1                 65       57\n",
       "2                 26       96\n",
       "3                 49       73\n",
       "4                 34       88\n",
       "...              ...      ...\n",
       "1048562           32       90\n",
       "1048563           30       92\n",
       "1048564           33       89\n",
       "1048565           44       78\n",
       "1048566           38       84\n",
       "\n",
       "[985322 rows x 2 columns]"
      ]
     },
     "execution_count": 7,
     "metadata": {},
     "output_type": "execute_result"
    }
   ],
   "source": [
    "df['CustomerAge'] = 2022 - df['YearDOB'].apply(lambda x: 1900 + x if x > 22 else 2000 + x)\n",
    "df[['CustomerAge', 'YearDOB']]"
   ]
  },
  {
   "cell_type": "markdown",
   "id": "adda2353",
   "metadata": {},
   "source": [
    "Revendo dataset"
   ]
  },
  {
   "cell_type": "code",
   "execution_count": 8,
   "id": "7dd1df0f",
   "metadata": {},
   "outputs": [
    {
     "data": {
      "text/html": [
       "<div>\n",
       "<style scoped>\n",
       "    .dataframe tbody tr th:only-of-type {\n",
       "        vertical-align: middle;\n",
       "    }\n",
       "\n",
       "    .dataframe tbody tr th {\n",
       "        vertical-align: top;\n",
       "    }\n",
       "\n",
       "    .dataframe thead th {\n",
       "        text-align: right;\n",
       "    }\n",
       "</style>\n",
       "<table border=\"1\" class=\"dataframe\">\n",
       "  <thead>\n",
       "    <tr style=\"text-align: right;\">\n",
       "      <th></th>\n",
       "      <th>TransactionID</th>\n",
       "      <th>CustomerID</th>\n",
       "      <th>CustomerDOB</th>\n",
       "      <th>CustGender</th>\n",
       "      <th>CustLocation</th>\n",
       "      <th>CustAccountBalance</th>\n",
       "      <th>TransactionDate</th>\n",
       "      <th>TransactionTime</th>\n",
       "      <th>TransactionAmount (INR)</th>\n",
       "      <th>YearDOB</th>\n",
       "      <th>MonthDOB</th>\n",
       "      <th>DayDOB</th>\n",
       "      <th>CustomerAge</th>\n",
       "    </tr>\n",
       "  </thead>\n",
       "  <tbody>\n",
       "    <tr>\n",
       "      <th>0</th>\n",
       "      <td>T1</td>\n",
       "      <td>C5841053</td>\n",
       "      <td>10/1/94</td>\n",
       "      <td>F</td>\n",
       "      <td>JAMSHEDPUR</td>\n",
       "      <td>17819.05</td>\n",
       "      <td>2/8/16</td>\n",
       "      <td>143207</td>\n",
       "      <td>25.0</td>\n",
       "      <td>94</td>\n",
       "      <td>1</td>\n",
       "      <td>10</td>\n",
       "      <td>28</td>\n",
       "    </tr>\n",
       "    <tr>\n",
       "      <th>1</th>\n",
       "      <td>T2</td>\n",
       "      <td>C2142763</td>\n",
       "      <td>4/4/57</td>\n",
       "      <td>M</td>\n",
       "      <td>JHAJJAR</td>\n",
       "      <td>2270.69</td>\n",
       "      <td>2/8/16</td>\n",
       "      <td>141858</td>\n",
       "      <td>27999.0</td>\n",
       "      <td>57</td>\n",
       "      <td>4</td>\n",
       "      <td>4</td>\n",
       "      <td>65</td>\n",
       "    </tr>\n",
       "    <tr>\n",
       "      <th>2</th>\n",
       "      <td>T3</td>\n",
       "      <td>C4417068</td>\n",
       "      <td>26/11/96</td>\n",
       "      <td>F</td>\n",
       "      <td>MUMBAI</td>\n",
       "      <td>17874.44</td>\n",
       "      <td>2/8/16</td>\n",
       "      <td>142712</td>\n",
       "      <td>459.0</td>\n",
       "      <td>96</td>\n",
       "      <td>11</td>\n",
       "      <td>26</td>\n",
       "      <td>26</td>\n",
       "    </tr>\n",
       "    <tr>\n",
       "      <th>3</th>\n",
       "      <td>T4</td>\n",
       "      <td>C5342380</td>\n",
       "      <td>14/9/73</td>\n",
       "      <td>F</td>\n",
       "      <td>MUMBAI</td>\n",
       "      <td>866503.21</td>\n",
       "      <td>2/8/16</td>\n",
       "      <td>142714</td>\n",
       "      <td>2060.0</td>\n",
       "      <td>73</td>\n",
       "      <td>9</td>\n",
       "      <td>14</td>\n",
       "      <td>49</td>\n",
       "    </tr>\n",
       "    <tr>\n",
       "      <th>4</th>\n",
       "      <td>T5</td>\n",
       "      <td>C9031234</td>\n",
       "      <td>24/3/88</td>\n",
       "      <td>F</td>\n",
       "      <td>NAVI MUMBAI</td>\n",
       "      <td>6714.43</td>\n",
       "      <td>2/8/16</td>\n",
       "      <td>181156</td>\n",
       "      <td>1762.5</td>\n",
       "      <td>88</td>\n",
       "      <td>3</td>\n",
       "      <td>24</td>\n",
       "      <td>34</td>\n",
       "    </tr>\n",
       "  </tbody>\n",
       "</table>\n",
       "</div>"
      ],
      "text/plain": [
       "  TransactionID CustomerID CustomerDOB CustGender CustLocation  \\\n",
       "0            T1   C5841053     10/1/94          F   JAMSHEDPUR   \n",
       "1            T2   C2142763      4/4/57          M      JHAJJAR   \n",
       "2            T3   C4417068    26/11/96          F       MUMBAI   \n",
       "3            T4   C5342380     14/9/73          F       MUMBAI   \n",
       "4            T5   C9031234     24/3/88          F  NAVI MUMBAI   \n",
       "\n",
       "   CustAccountBalance TransactionDate  TransactionTime  \\\n",
       "0            17819.05          2/8/16           143207   \n",
       "1             2270.69          2/8/16           141858   \n",
       "2            17874.44          2/8/16           142712   \n",
       "3           866503.21          2/8/16           142714   \n",
       "4             6714.43          2/8/16           181156   \n",
       "\n",
       "   TransactionAmount (INR)  YearDOB  MonthDOB  DayDOB  CustomerAge  \n",
       "0                     25.0       94         1      10           28  \n",
       "1                  27999.0       57         4       4           65  \n",
       "2                    459.0       96        11      26           26  \n",
       "3                   2060.0       73         9      14           49  \n",
       "4                   1762.5       88         3      24           34  "
      ]
     },
     "execution_count": 8,
     "metadata": {},
     "output_type": "execute_result"
    }
   ],
   "source": [
    "df.head(5)"
   ]
  },
  {
   "cell_type": "code",
   "execution_count": 9,
   "id": "829c3b13",
   "metadata": {},
   "outputs": [],
   "source": [
    "df.drop(columns=['TransactionID', 'CustomerID', 'CustomerDOB', 'YearDOB', 'MonthDOB', 'DayDOB'], inplace=True)"
   ]
  },
  {
   "cell_type": "code",
   "execution_count": 10,
   "id": "059d33d3",
   "metadata": {},
   "outputs": [
    {
     "data": {
      "text/html": [
       "<div>\n",
       "<style scoped>\n",
       "    .dataframe tbody tr th:only-of-type {\n",
       "        vertical-align: middle;\n",
       "    }\n",
       "\n",
       "    .dataframe tbody tr th {\n",
       "        vertical-align: top;\n",
       "    }\n",
       "\n",
       "    .dataframe thead th {\n",
       "        text-align: right;\n",
       "    }\n",
       "</style>\n",
       "<table border=\"1\" class=\"dataframe\">\n",
       "  <thead>\n",
       "    <tr style=\"text-align: right;\">\n",
       "      <th></th>\n",
       "      <th>CustGender</th>\n",
       "      <th>CustLocation</th>\n",
       "      <th>CustAccountBalance</th>\n",
       "      <th>TransactionDate</th>\n",
       "      <th>TransactionTime</th>\n",
       "      <th>TransactionAmount (INR)</th>\n",
       "      <th>CustomerAge</th>\n",
       "    </tr>\n",
       "  </thead>\n",
       "  <tbody>\n",
       "    <tr>\n",
       "      <th>0</th>\n",
       "      <td>F</td>\n",
       "      <td>JAMSHEDPUR</td>\n",
       "      <td>17819.05</td>\n",
       "      <td>2/8/16</td>\n",
       "      <td>143207</td>\n",
       "      <td>25.0</td>\n",
       "      <td>28</td>\n",
       "    </tr>\n",
       "    <tr>\n",
       "      <th>1</th>\n",
       "      <td>M</td>\n",
       "      <td>JHAJJAR</td>\n",
       "      <td>2270.69</td>\n",
       "      <td>2/8/16</td>\n",
       "      <td>141858</td>\n",
       "      <td>27999.0</td>\n",
       "      <td>65</td>\n",
       "    </tr>\n",
       "    <tr>\n",
       "      <th>2</th>\n",
       "      <td>F</td>\n",
       "      <td>MUMBAI</td>\n",
       "      <td>17874.44</td>\n",
       "      <td>2/8/16</td>\n",
       "      <td>142712</td>\n",
       "      <td>459.0</td>\n",
       "      <td>26</td>\n",
       "    </tr>\n",
       "    <tr>\n",
       "      <th>3</th>\n",
       "      <td>F</td>\n",
       "      <td>MUMBAI</td>\n",
       "      <td>866503.21</td>\n",
       "      <td>2/8/16</td>\n",
       "      <td>142714</td>\n",
       "      <td>2060.0</td>\n",
       "      <td>49</td>\n",
       "    </tr>\n",
       "    <tr>\n",
       "      <th>4</th>\n",
       "      <td>F</td>\n",
       "      <td>NAVI MUMBAI</td>\n",
       "      <td>6714.43</td>\n",
       "      <td>2/8/16</td>\n",
       "      <td>181156</td>\n",
       "      <td>1762.5</td>\n",
       "      <td>34</td>\n",
       "    </tr>\n",
       "  </tbody>\n",
       "</table>\n",
       "</div>"
      ],
      "text/plain": [
       "  CustGender CustLocation  CustAccountBalance TransactionDate  \\\n",
       "0          F   JAMSHEDPUR            17819.05          2/8/16   \n",
       "1          M      JHAJJAR             2270.69          2/8/16   \n",
       "2          F       MUMBAI            17874.44          2/8/16   \n",
       "3          F       MUMBAI           866503.21          2/8/16   \n",
       "4          F  NAVI MUMBAI             6714.43          2/8/16   \n",
       "\n",
       "   TransactionTime  TransactionAmount (INR)  CustomerAge  \n",
       "0           143207                     25.0           28  \n",
       "1           141858                  27999.0           65  \n",
       "2           142712                    459.0           26  \n",
       "3           142714                   2060.0           49  \n",
       "4           181156                   1762.5           34  "
      ]
     },
     "execution_count": 10,
     "metadata": {},
     "output_type": "execute_result"
    }
   ],
   "source": [
    "df.head(5)"
   ]
  },
  {
   "cell_type": "markdown",
   "id": "802fd97c",
   "metadata": {},
   "source": [
    "#### Lidando com `TransactionDate`"
   ]
  },
  {
   "cell_type": "markdown",
   "id": "f75dbe88",
   "metadata": {},
   "source": [
    "Talvez possamos simplesmente criar três atributos, um para o dia da transação, um para o mês e outro para o ano."
   ]
  },
  {
   "cell_type": "code",
   "execution_count": 11,
   "id": "2f728f28",
   "metadata": {},
   "outputs": [
    {
     "data": {
      "text/html": [
       "<div>\n",
       "<style scoped>\n",
       "    .dataframe tbody tr th:only-of-type {\n",
       "        vertical-align: middle;\n",
       "    }\n",
       "\n",
       "    .dataframe tbody tr th {\n",
       "        vertical-align: top;\n",
       "    }\n",
       "\n",
       "    .dataframe thead th {\n",
       "        text-align: right;\n",
       "    }\n",
       "</style>\n",
       "<table border=\"1\" class=\"dataframe\">\n",
       "  <thead>\n",
       "    <tr style=\"text-align: right;\">\n",
       "      <th></th>\n",
       "      <th>CustGender</th>\n",
       "      <th>CustLocation</th>\n",
       "      <th>CustAccountBalance</th>\n",
       "      <th>TransactionDate</th>\n",
       "      <th>TransactionTime</th>\n",
       "      <th>TransactionAmount (INR)</th>\n",
       "      <th>CustomerAge</th>\n",
       "      <th>TransactionDay</th>\n",
       "      <th>TransactionMonth</th>\n",
       "      <th>TransactionYear</th>\n",
       "    </tr>\n",
       "  </thead>\n",
       "  <tbody>\n",
       "    <tr>\n",
       "      <th>0</th>\n",
       "      <td>F</td>\n",
       "      <td>JAMSHEDPUR</td>\n",
       "      <td>17819.05</td>\n",
       "      <td>2/8/16</td>\n",
       "      <td>143207</td>\n",
       "      <td>25.0</td>\n",
       "      <td>28</td>\n",
       "      <td>2</td>\n",
       "      <td>8</td>\n",
       "      <td>16</td>\n",
       "    </tr>\n",
       "    <tr>\n",
       "      <th>1</th>\n",
       "      <td>M</td>\n",
       "      <td>JHAJJAR</td>\n",
       "      <td>2270.69</td>\n",
       "      <td>2/8/16</td>\n",
       "      <td>141858</td>\n",
       "      <td>27999.0</td>\n",
       "      <td>65</td>\n",
       "      <td>2</td>\n",
       "      <td>8</td>\n",
       "      <td>16</td>\n",
       "    </tr>\n",
       "    <tr>\n",
       "      <th>2</th>\n",
       "      <td>F</td>\n",
       "      <td>MUMBAI</td>\n",
       "      <td>17874.44</td>\n",
       "      <td>2/8/16</td>\n",
       "      <td>142712</td>\n",
       "      <td>459.0</td>\n",
       "      <td>26</td>\n",
       "      <td>2</td>\n",
       "      <td>8</td>\n",
       "      <td>16</td>\n",
       "    </tr>\n",
       "    <tr>\n",
       "      <th>3</th>\n",
       "      <td>F</td>\n",
       "      <td>MUMBAI</td>\n",
       "      <td>866503.21</td>\n",
       "      <td>2/8/16</td>\n",
       "      <td>142714</td>\n",
       "      <td>2060.0</td>\n",
       "      <td>49</td>\n",
       "      <td>2</td>\n",
       "      <td>8</td>\n",
       "      <td>16</td>\n",
       "    </tr>\n",
       "    <tr>\n",
       "      <th>4</th>\n",
       "      <td>F</td>\n",
       "      <td>NAVI MUMBAI</td>\n",
       "      <td>6714.43</td>\n",
       "      <td>2/8/16</td>\n",
       "      <td>181156</td>\n",
       "      <td>1762.5</td>\n",
       "      <td>34</td>\n",
       "      <td>2</td>\n",
       "      <td>8</td>\n",
       "      <td>16</td>\n",
       "    </tr>\n",
       "  </tbody>\n",
       "</table>\n",
       "</div>"
      ],
      "text/plain": [
       "  CustGender CustLocation  CustAccountBalance TransactionDate  \\\n",
       "0          F   JAMSHEDPUR            17819.05          2/8/16   \n",
       "1          M      JHAJJAR             2270.69          2/8/16   \n",
       "2          F       MUMBAI            17874.44          2/8/16   \n",
       "3          F       MUMBAI           866503.21          2/8/16   \n",
       "4          F  NAVI MUMBAI             6714.43          2/8/16   \n",
       "\n",
       "   TransactionTime  TransactionAmount (INR)  CustomerAge TransactionDay  \\\n",
       "0           143207                     25.0           28              2   \n",
       "1           141858                  27999.0           65              2   \n",
       "2           142712                    459.0           26              2   \n",
       "3           142714                   2060.0           49              2   \n",
       "4           181156                   1762.5           34              2   \n",
       "\n",
       "  TransactionMonth TransactionYear  \n",
       "0                8              16  \n",
       "1                8              16  \n",
       "2                8              16  \n",
       "3                8              16  \n",
       "4                8              16  "
      ]
     },
     "execution_count": 11,
     "metadata": {},
     "output_type": "execute_result"
    }
   ],
   "source": [
    "df[['TransactionDay', 'TransactionMonth', 'TransactionYear']] = df['TransactionDate'].str.split('/', expand=True)\n",
    "df.head(5)"
   ]
  },
  {
   "cell_type": "markdown",
   "id": "a56dd4b0",
   "metadata": {},
   "source": [
    "Validando entradas para esses três atributos:"
   ]
  },
  {
   "cell_type": "code",
   "execution_count": 12,
   "id": "d9d6fb58",
   "metadata": {},
   "outputs": [],
   "source": [
    "df['TransactionDay'] = df['TransactionDay'].astype('float64')\n",
    "df['TransactionMonth'] = df['TransactionMonth'].astype('float64')\n",
    "df['TransactionYear'] = df['TransactionYear'].astype('float64')"
   ]
  },
  {
   "cell_type": "code",
   "execution_count": 13,
   "id": "6e2ba65f",
   "metadata": {},
   "outputs": [
    {
     "data": {
      "text/plain": [
       "(True, True, True)"
      ]
     },
     "execution_count": 13,
     "metadata": {},
     "output_type": "execute_result"
    }
   ],
   "source": [
    "transday_valid = (df['TransactionDay'] <= 31) & (df['TransactionDay'] >= 1)\n",
    "transmonth_valid = (df['TransactionMonth'] <= 12) & (df['TransactionMonth'] >= 1)\n",
    "transyear_valid = (df['TransactionYear'] <= 99) & (df['TransactionYear'] >= 0)\n",
    "\n",
    "transday_valid.all(), transmonth_valid.all(), transyear_valid.all()"
   ]
  },
  {
   "cell_type": "markdown",
   "id": "d641b9c3",
   "metadata": {},
   "source": [
    "Tudo certo. Então, é só droppar o atributo antigo."
   ]
  },
  {
   "cell_type": "code",
   "execution_count": 14,
   "id": "4420016f",
   "metadata": {
    "scrolled": true
   },
   "outputs": [
    {
     "data": {
      "text/html": [
       "<div>\n",
       "<style scoped>\n",
       "    .dataframe tbody tr th:only-of-type {\n",
       "        vertical-align: middle;\n",
       "    }\n",
       "\n",
       "    .dataframe tbody tr th {\n",
       "        vertical-align: top;\n",
       "    }\n",
       "\n",
       "    .dataframe thead th {\n",
       "        text-align: right;\n",
       "    }\n",
       "</style>\n",
       "<table border=\"1\" class=\"dataframe\">\n",
       "  <thead>\n",
       "    <tr style=\"text-align: right;\">\n",
       "      <th></th>\n",
       "      <th>CustGender</th>\n",
       "      <th>CustLocation</th>\n",
       "      <th>CustAccountBalance</th>\n",
       "      <th>TransactionTime</th>\n",
       "      <th>TransactionAmount (INR)</th>\n",
       "      <th>CustomerAge</th>\n",
       "      <th>TransactionDay</th>\n",
       "      <th>TransactionMonth</th>\n",
       "      <th>TransactionYear</th>\n",
       "    </tr>\n",
       "  </thead>\n",
       "  <tbody>\n",
       "    <tr>\n",
       "      <th>0</th>\n",
       "      <td>F</td>\n",
       "      <td>JAMSHEDPUR</td>\n",
       "      <td>17819.05</td>\n",
       "      <td>143207</td>\n",
       "      <td>25.0</td>\n",
       "      <td>28</td>\n",
       "      <td>2.0</td>\n",
       "      <td>8.0</td>\n",
       "      <td>16.0</td>\n",
       "    </tr>\n",
       "    <tr>\n",
       "      <th>1</th>\n",
       "      <td>M</td>\n",
       "      <td>JHAJJAR</td>\n",
       "      <td>2270.69</td>\n",
       "      <td>141858</td>\n",
       "      <td>27999.0</td>\n",
       "      <td>65</td>\n",
       "      <td>2.0</td>\n",
       "      <td>8.0</td>\n",
       "      <td>16.0</td>\n",
       "    </tr>\n",
       "    <tr>\n",
       "      <th>2</th>\n",
       "      <td>F</td>\n",
       "      <td>MUMBAI</td>\n",
       "      <td>17874.44</td>\n",
       "      <td>142712</td>\n",
       "      <td>459.0</td>\n",
       "      <td>26</td>\n",
       "      <td>2.0</td>\n",
       "      <td>8.0</td>\n",
       "      <td>16.0</td>\n",
       "    </tr>\n",
       "    <tr>\n",
       "      <th>3</th>\n",
       "      <td>F</td>\n",
       "      <td>MUMBAI</td>\n",
       "      <td>866503.21</td>\n",
       "      <td>142714</td>\n",
       "      <td>2060.0</td>\n",
       "      <td>49</td>\n",
       "      <td>2.0</td>\n",
       "      <td>8.0</td>\n",
       "      <td>16.0</td>\n",
       "    </tr>\n",
       "    <tr>\n",
       "      <th>4</th>\n",
       "      <td>F</td>\n",
       "      <td>NAVI MUMBAI</td>\n",
       "      <td>6714.43</td>\n",
       "      <td>181156</td>\n",
       "      <td>1762.5</td>\n",
       "      <td>34</td>\n",
       "      <td>2.0</td>\n",
       "      <td>8.0</td>\n",
       "      <td>16.0</td>\n",
       "    </tr>\n",
       "  </tbody>\n",
       "</table>\n",
       "</div>"
      ],
      "text/plain": [
       "  CustGender CustLocation  CustAccountBalance  TransactionTime  \\\n",
       "0          F   JAMSHEDPUR            17819.05           143207   \n",
       "1          M      JHAJJAR             2270.69           141858   \n",
       "2          F       MUMBAI            17874.44           142712   \n",
       "3          F       MUMBAI           866503.21           142714   \n",
       "4          F  NAVI MUMBAI             6714.43           181156   \n",
       "\n",
       "   TransactionAmount (INR)  CustomerAge  TransactionDay  TransactionMonth  \\\n",
       "0                     25.0           28             2.0               8.0   \n",
       "1                  27999.0           65             2.0               8.0   \n",
       "2                    459.0           26             2.0               8.0   \n",
       "3                   2060.0           49             2.0               8.0   \n",
       "4                   1762.5           34             2.0               8.0   \n",
       "\n",
       "   TransactionYear  \n",
       "0             16.0  \n",
       "1             16.0  \n",
       "2             16.0  \n",
       "3             16.0  \n",
       "4             16.0  "
      ]
     },
     "execution_count": 14,
     "metadata": {},
     "output_type": "execute_result"
    }
   ],
   "source": [
    "df.drop(columns='TransactionDate', inplace=True)\n",
    "df.head(5)"
   ]
  },
  {
   "cell_type": "markdown",
   "id": "95563ab0",
   "metadata": {},
   "source": [
    "#### Separando hora, minuto e segundo da transação"
   ]
  },
  {
   "cell_type": "code",
   "execution_count": 15,
   "id": "ba11712d",
   "metadata": {},
   "outputs": [],
   "source": [
    "df['TimeHours']   = df['TransactionTime'] // 10000\n",
    "df['TimeMinutes'] = (df['TransactionTime'] // 100) - ((df['TransactionTime'] // 10000) * 100)\n",
    "df['TimeSeconds'] = df['TransactionTime'] - (df['TransactionTime'] // 100) * 100\n",
    "\n",
    "df.drop(columns='TransactionTime', inplace=True)"
   ]
  },
  {
   "cell_type": "markdown",
   "id": "e534fed8",
   "metadata": {},
   "source": [
    "## COMEÇANDO A VISUALIZAÇÃO DOS DADOS"
   ]
  },
  {
   "cell_type": "code",
   "execution_count": 16,
   "id": "655aced3",
   "metadata": {},
   "outputs": [
    {
     "name": "stdout",
     "output_type": "stream",
     "text": [
      "<class 'pandas.core.frame.DataFrame'>\n",
      "Int64Index: 985322 entries, 0 to 1048566\n",
      "Data columns (total 11 columns):\n",
      " #   Column                   Non-Null Count   Dtype  \n",
      "---  ------                   --------------   -----  \n",
      " 0   CustGender               985322 non-null  object \n",
      " 1   CustLocation             985322 non-null  object \n",
      " 2   CustAccountBalance       985322 non-null  float64\n",
      " 3   TransactionAmount (INR)  985322 non-null  float64\n",
      " 4   CustomerAge              985322 non-null  int64  \n",
      " 5   TransactionDay           985322 non-null  float64\n",
      " 6   TransactionMonth         985322 non-null  float64\n",
      " 7   TransactionYear          985322 non-null  float64\n",
      " 8   TimeHours                985322 non-null  int64  \n",
      " 9   TimeMinutes              985322 non-null  int64  \n",
      " 10  TimeSeconds              985322 non-null  int64  \n",
      "dtypes: float64(5), int64(4), object(2)\n",
      "memory usage: 90.2+ MB\n"
     ]
    }
   ],
   "source": [
    "df.info()"
   ]
  },
  {
   "cell_type": "code",
   "execution_count": 17,
   "id": "09304b58",
   "metadata": {},
   "outputs": [
    {
     "data": {
      "text/html": [
       "<div>\n",
       "<style scoped>\n",
       "    .dataframe tbody tr th:only-of-type {\n",
       "        vertical-align: middle;\n",
       "    }\n",
       "\n",
       "    .dataframe tbody tr th {\n",
       "        vertical-align: top;\n",
       "    }\n",
       "\n",
       "    .dataframe thead th {\n",
       "        text-align: right;\n",
       "    }\n",
       "</style>\n",
       "<table border=\"1\" class=\"dataframe\">\n",
       "  <thead>\n",
       "    <tr style=\"text-align: right;\">\n",
       "      <th></th>\n",
       "      <th>CustGender</th>\n",
       "      <th>CustLocation</th>\n",
       "      <th>CustAccountBalance</th>\n",
       "      <th>TransactionAmount (INR)</th>\n",
       "      <th>CustomerAge</th>\n",
       "      <th>TransactionDay</th>\n",
       "      <th>TransactionMonth</th>\n",
       "      <th>TransactionYear</th>\n",
       "      <th>TimeHours</th>\n",
       "      <th>TimeMinutes</th>\n",
       "      <th>TimeSeconds</th>\n",
       "    </tr>\n",
       "  </thead>\n",
       "  <tbody>\n",
       "    <tr>\n",
       "      <th>0</th>\n",
       "      <td>F</td>\n",
       "      <td>JAMSHEDPUR</td>\n",
       "      <td>17819.05</td>\n",
       "      <td>25.0</td>\n",
       "      <td>28</td>\n",
       "      <td>2.0</td>\n",
       "      <td>8.0</td>\n",
       "      <td>16.0</td>\n",
       "      <td>14</td>\n",
       "      <td>32</td>\n",
       "      <td>7</td>\n",
       "    </tr>\n",
       "    <tr>\n",
       "      <th>1</th>\n",
       "      <td>M</td>\n",
       "      <td>JHAJJAR</td>\n",
       "      <td>2270.69</td>\n",
       "      <td>27999.0</td>\n",
       "      <td>65</td>\n",
       "      <td>2.0</td>\n",
       "      <td>8.0</td>\n",
       "      <td>16.0</td>\n",
       "      <td>14</td>\n",
       "      <td>18</td>\n",
       "      <td>58</td>\n",
       "    </tr>\n",
       "    <tr>\n",
       "      <th>2</th>\n",
       "      <td>F</td>\n",
       "      <td>MUMBAI</td>\n",
       "      <td>17874.44</td>\n",
       "      <td>459.0</td>\n",
       "      <td>26</td>\n",
       "      <td>2.0</td>\n",
       "      <td>8.0</td>\n",
       "      <td>16.0</td>\n",
       "      <td>14</td>\n",
       "      <td>27</td>\n",
       "      <td>12</td>\n",
       "    </tr>\n",
       "    <tr>\n",
       "      <th>3</th>\n",
       "      <td>F</td>\n",
       "      <td>MUMBAI</td>\n",
       "      <td>866503.21</td>\n",
       "      <td>2060.0</td>\n",
       "      <td>49</td>\n",
       "      <td>2.0</td>\n",
       "      <td>8.0</td>\n",
       "      <td>16.0</td>\n",
       "      <td>14</td>\n",
       "      <td>27</td>\n",
       "      <td>14</td>\n",
       "    </tr>\n",
       "    <tr>\n",
       "      <th>4</th>\n",
       "      <td>F</td>\n",
       "      <td>NAVI MUMBAI</td>\n",
       "      <td>6714.43</td>\n",
       "      <td>1762.5</td>\n",
       "      <td>34</td>\n",
       "      <td>2.0</td>\n",
       "      <td>8.0</td>\n",
       "      <td>16.0</td>\n",
       "      <td>18</td>\n",
       "      <td>11</td>\n",
       "      <td>56</td>\n",
       "    </tr>\n",
       "  </tbody>\n",
       "</table>\n",
       "</div>"
      ],
      "text/plain": [
       "  CustGender CustLocation  CustAccountBalance  TransactionAmount (INR)  \\\n",
       "0          F   JAMSHEDPUR            17819.05                     25.0   \n",
       "1          M      JHAJJAR             2270.69                  27999.0   \n",
       "2          F       MUMBAI            17874.44                    459.0   \n",
       "3          F       MUMBAI           866503.21                   2060.0   \n",
       "4          F  NAVI MUMBAI             6714.43                   1762.5   \n",
       "\n",
       "   CustomerAge  TransactionDay  TransactionMonth  TransactionYear  TimeHours  \\\n",
       "0           28             2.0               8.0             16.0         14   \n",
       "1           65             2.0               8.0             16.0         14   \n",
       "2           26             2.0               8.0             16.0         14   \n",
       "3           49             2.0               8.0             16.0         14   \n",
       "4           34             2.0               8.0             16.0         18   \n",
       "\n",
       "   TimeMinutes  TimeSeconds  \n",
       "0           32            7  \n",
       "1           18           58  \n",
       "2           27           12  \n",
       "3           27           14  \n",
       "4           11           56  "
      ]
     },
     "execution_count": 17,
     "metadata": {},
     "output_type": "execute_result"
    }
   ],
   "source": [
    "df.head(5)"
   ]
  },
  {
   "cell_type": "markdown",
   "id": "ac6df8fc",
   "metadata": {},
   "source": [
    "### CIDADES"
   ]
  },
  {
   "cell_type": "code",
   "execution_count": 18,
   "id": "6cb0cfde",
   "metadata": {
    "scrolled": true
   },
   "outputs": [
    {
     "data": {
      "text/plain": [
       "MUMBAI       97679\n",
       "BANGALORE    77751\n",
       "NEW DELHI    76380\n",
       "GURGAON      70518\n",
       "DELHI        67335\n",
       "NOIDA        31675\n",
       "Name: CustLocation, dtype: int64"
      ]
     },
     "execution_count": 18,
     "metadata": {},
     "output_type": "execute_result"
    }
   ],
   "source": [
    "df['CustLocation'].value_counts().head(6)"
   ]
  },
  {
   "cell_type": "code",
   "execution_count": 19,
   "id": "be64f365",
   "metadata": {},
   "outputs": [
    {
     "data": {
      "image/png": "[encoded data removed]",
      "text/plain": [
       "<Figure size 1080x360 with 2 Axes>"
      ]
     },
     "metadata": {
      "needs_background": "light"
     },
     "output_type": "display_data"
    }
   ],
   "source": [
    "aux = df[\n",
    "    (df['CustLocation'] == 'MUMBAI') |\n",
    "    (df['CustLocation'] == 'BANGALORE') |\n",
    "    (df['CustLocation'] == 'NEW DELHI')\n",
    "]\n",
    "\n",
    "_, axs = plt.subplots(1, 2, figsize=(15, 5))\n",
    "\n",
    "pcount = sns.countplot(data=aux, x='CustLocation', ax=axs[0])\n",
    "pbar   = sns.barplot(data=aux, x='CustLocation', y='TransactionAmount (INR)', estimator=np.mean, ax=axs[1])\n",
    "\n",
    "_ = pcount.set_title(\"Distribuição das transações entre as 3 maiores cidades\")\n",
    "_ = pcount.set_xlabel(\"Maiores cidades\")\n",
    "_ = pcount.set_ylabel(\"Quantidade de exemplos\")\n",
    "\n",
    "_ = pbar.set_title(\"Gasto médio em transações entre as 3 maiores cidades\")\n",
    "_ = pbar.set_xlabel(\"Maiores cidades\")\n",
    "_ = pbar.set_ylabel(\"Gasto médio em transações\")"
   ]
  },
  {
   "cell_type": "code",
   "execution_count": 20,
   "id": "283e8423",
   "metadata": {},
   "outputs": [
    {
     "data": {
      "image/png": "[encoded data removed]",
      "text/plain": [
       "<Figure size 720x360 with 1 Axes>"
      ]
     },
     "metadata": {
      "needs_background": "light"
     },
     "output_type": "display_data"
    }
   ],
   "source": [
    "_, ax = plt.subplots(1, figsize=(10, 5))\n",
    "\n",
    "pbar = sns.barplot(data=aux, x='CustLocation', y='TransactionAmount (INR)', estimator=np.sum, ax=ax)\n",
    "_ = pbar.set_title(\"Gasto total em transações das 3 maiores cidades\")\n",
    "_ = pbar.set_xlabel(\"Maiores cidades\")\n",
    "_ = pbar.set_ylabel(\"Gasto total em transações\")"
   ]
  },
  {
   "cell_type": "code",
   "execution_count": 41,
   "id": "d00b4f2b",
   "metadata": {},
   "outputs": [
    {
     "data": {
      "image/png": "[encoded data removed]",
      "text/plain": [
       "<Figure size 432x288 with 1 Axes>"
      ]
     },
     "metadata": {
      "needs_background": "light"
     },
     "output_type": "display_data"
    }
   ],
   "source": [
    "pviolin = sns.violinplot(\n",
    "    data=aux,\n",
    "    x='CustLocation',\n",
    "    y='CustAccountBalance'\n",
    ")\n",
    "_ = pviolin.set_title(\"Distribuição do saldo da conta de clientes das 3 maiores cidades\", pad=20.)\n",
    "_ = pviolin.set_xlabel(\"Maiores cidades\")\n",
    "_ = pviolin.set_ylabel(\"Saldo da conta\")\n",
    "\n",
    "_ = plt.ylim(-500000, 3000000)"
   ]
  },
  {
   "cell_type": "markdown",
   "id": "efb21035",
   "metadata": {},
   "source": [
    "## MESES"
   ]
  },
  {
   "cell_type": "code",
   "execution_count": 22,
   "id": "f9b8e367",
   "metadata": {},
   "outputs": [
    {
     "data": {
      "image/png": "[encoded data removed]",
      "text/plain": [
       "<Figure size 1080x360 with 2 Axes>"
      ]
     },
     "metadata": {
      "needs_background": "light"
     },
     "output_type": "display_data"
    }
   ],
   "source": [
    "_, axs = plt.subplots(1, 2, figsize=(15, 5))\n",
    "\n",
    "pcount = sns.countplot(\n",
    "    data=df,\n",
    "    x='TransactionMonth',\n",
    "    ax=axs[0]\n",
    ")\n",
    "_ = pcount.set_title(\"Distribuição das transações por meses do ano\")\n",
    "_ = pcount.set_xlabel(\"Meses do ano\")\n",
    "_ = pcount.set_ylabel(\"Quantidade de exemplos\")\n",
    "_ = pcount.set_xticks([0., 1., 2.], ['Agosto', 'Setembro', 'Outubro'])\n",
    "\n",
    "pbar = sns.barplot(\n",
    "    data=df, \n",
    "    x='TransactionMonth', \n",
    "    y='TransactionAmount (INR)', \n",
    "    estimator=np.mean, \n",
    "    ax=axs[1]\n",
    ")\n",
    "_ = pbar.set_title(\"Gasto médio de transações por meses do ano\")\n",
    "_ = pbar.set_xlabel(\"Meses do ano\")\n",
    "_ = pbar.set_ylabel(\"Gasto médio em transações\")\n",
    "_ = pbar.set_xticks([0., 1., 2.], ['Agosto', 'Setembro', 'Outubro'])"
   ]
  },
  {
   "cell_type": "code",
   "execution_count": 23,
   "id": "d2b3bdfb",
   "metadata": {},
   "outputs": [
    {
     "name": "stdout",
     "output_type": "stream",
     "text": [
      "Quantidade de transações em outubro: 3410\n"
     ]
    },
    {
     "data": {
      "text/plain": [
       "21.0    3408\n",
       "16.0       2\n",
       "Name: TransactionDay, dtype: int64"
      ]
     },
     "execution_count": 23,
     "metadata": {},
     "output_type": "execute_result"
    }
   ],
   "source": [
    "qntd = len(df[ df['TransactionMonth'] == 10. ])\n",
    "print(f\"Quantidade de transações em outubro: {qntd}\")\n",
    "\n",
    "df[ df['TransactionMonth'] == 10. ]['TransactionDay'].value_counts()"
   ]
  },
  {
   "cell_type": "code",
   "execution_count": 24,
   "id": "4bd54dba",
   "metadata": {},
   "outputs": [
    {
     "data": {
      "image/png": "[encoded data removed]",
      "text/plain": [
       "<Figure size 1080x360 with 2 Axes>"
      ]
     },
     "metadata": {
      "needs_background": "light"
     },
     "output_type": "display_data"
    }
   ],
   "source": [
    "_, axs = plt.subplots(1, 2, figsize=(15, 5))\n",
    "\n",
    "aux1 = df[ df['TransactionMonth'] == 8. ]\n",
    "aux2 = df[ df['TransactionMonth'] == 9. ]\n",
    "\n",
    "pline1 = sns.lineplot(\n",
    "    data=aux1,\n",
    "    x='TransactionDay',\n",
    "    y='TransactionAmount (INR)',\n",
    "    hue='CustGender',\n",
    "    ax=axs[0]\n",
    ")\n",
    "_ = pline1.set_title(\"Gasto médio em transação por dia de agosto\")\n",
    "_ = pline1.set_xlabel(\"Dias de agosto\")\n",
    "_ = pline1.set_ylabel(\"Gasto médio em transação\")\n",
    "\n",
    "pline2 = sns.lineplot(\n",
    "    data=aux2,\n",
    "    x='TransactionDay',\n",
    "    y='TransactionAmount (INR)',\n",
    "    hue='CustGender',\n",
    "    ax=axs[1]\n",
    ")\n",
    "_ = pline2.set_title(\"Gasto médio em transação por dia de setembro\")\n",
    "_ = pline2.set_xlabel(\"Dias de setembro\")\n",
    "_ = pline2.set_ylabel(\"Gasto médio em transação\")"
   ]
  },
  {
   "cell_type": "markdown",
   "id": "4f1966e0",
   "metadata": {},
   "source": [
    "## GÊNERO"
   ]
  },
  {
   "cell_type": "code",
   "execution_count": 25,
   "id": "3cfd0c0c",
   "metadata": {
    "scrolled": true
   },
   "outputs": [
    {
     "data": {
      "image/png": "[encoded data removed]",
      "text/plain": [
       "<Figure size 1080x360 with 3 Axes>"
      ]
     },
     "metadata": {
      "needs_background": "light"
     },
     "output_type": "display_data"
    }
   ],
   "source": [
    "_, axs = plt.subplots(1, 3, figsize=(15, 5))\n",
    "\n",
    "pcount = sns.countplot(\n",
    "    data=df,\n",
    "    x='CustGender',\n",
    "    ax=axs[0]\n",
    ")\n",
    "_ = pcount.set_title(\"Distribuição das transações por gênero\")\n",
    "_ = pcount.set_xlabel(\"Gêneros\")\n",
    "_ = pcount.set_ylabel(\"Quantidade de exemplos\")\n",
    "\n",
    "pbar = sns.barplot(\n",
    "    data=df, \n",
    "    x='CustGender', \n",
    "    y='CustAccountBalance', \n",
    "    estimator=np.mean, \n",
    "    ax=axs[1]\n",
    ")\n",
    "_ = pbar.set_title(\"Saldo da conta por gênero\")\n",
    "_ = pbar.set_xlabel(\"Gêneros\")\n",
    "_ = pbar.set_ylabel(\"Gasto médio em transações\")\n",
    "\n",
    "pbar = sns.barplot(\n",
    "    data=df, \n",
    "    x='CustGender', \n",
    "    y='CustAccountBalance', \n",
    "    estimator=np.sum, \n",
    "    ax=axs[2]\n",
    ")\n",
    "_ = pbar.set_title(\"Soma dos saldos da conta por gênero\")\n",
    "_ = pbar.set_xlabel(\"Gêneros\")\n",
    "_ = pbar.set_ylabel(\"Gasto total em transações\")"
   ]
  },
  {
   "cell_type": "markdown",
   "id": "75b71035",
   "metadata": {},
   "source": [
    "## GASTO POR TRANSAÇÃO"
   ]
  },
  {
   "cell_type": "code",
   "execution_count": 52,
   "id": "0aac24a0",
   "metadata": {},
   "outputs": [
    {
     "data": {
      "image/png": "[encoded data removed]",
      "text/plain": [
       "<Figure size 1080x360 with 2 Axes>"
      ]
     },
     "metadata": {
      "needs_background": "light"
     },
     "output_type": "display_data"
    }
   ],
   "source": [
    "_, axs = plt.subplots(1, 2, figsize=(15, 5))\n",
    "\n",
    "inr_limit = 0.6e6\n",
    "acc_limit = 0.4e8\n",
    "\n",
    "pscatter = sns.scatterplot(\n",
    "    data=df[ (df['TransactionAmount (INR)'] < inr_limit) & (df['CustAccountBalance'] < acc_limit) ],\n",
    "    #kind='scatter',\n",
    "    x='CustAccountBalance',\n",
    "    y='TransactionAmount (INR)',\n",
    "    hue='CustGender',\n",
    "    ax=axs[0]\n",
    ")\n",
    "_ = pscatter.set_title(\"Distribuição entre gasto por transação e saldo bancário\")\n",
    "_ = pscatter.set_xlabel(\"Saldo bancário\")\n",
    "_ = pscatter.set_ylabel(\"Gasto por transação\")\n",
    "\n",
    "preg = sns.regplot(\n",
    "    data=df[ (df['TransactionAmount (INR)'] < inr_limit) & (df['CustAccountBalance'] < acc_limit) ],\n",
    "    x='CustAccountBalance',\n",
    "    y='TransactionAmount (INR)',\n",
    "    #hue='CustGender',\n",
    "    order=2,\n",
    "    ax=axs[1]\n",
    ")\n",
    "_ = preg.set_title(\"Mesma distribuição; curva de comportamento\")\n",
    "_ = preg.set_xlabel(\"Saldo bancário\")\n",
    "_ = preg.set_ylabel(\"Gasto por transação\")"
   ]
  }
 ],
 "metadata": {
  "kernelspec": {
   "display_name": "Python 3 (ipykernel)",
   "language": "python",
   "name": "python3"
  },
  "language_info": {
   "codemirror_mode": {
    "name": "ipython",
    "version": 3
   },
   "file_extension": ".py",
   "mimetype": "text/x-python",
   "name": "python",
   "nbconvert_exporter": "python",
   "pygments_lexer": "ipython3",
   "version": "3.8.12"
  }
 },
 "nbformat": 4,
 "nbformat_minor": 5
}
